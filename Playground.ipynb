{
 "cells": [
  {
   "cell_type": "code",
   "execution_count": null,
   "id": "b6a98c89-e145-4c10-827b-c9a1e12182f0",
   "metadata": {},
   "outputs": [
    {
     "name": "stderr",
     "output_type": "stream",
     "text": [
      "/Users/bhargavcn/Library/Python/3.9/lib/python/site-packages/urllib3/__init__.py:35: NotOpenSSLWarning: urllib3 v2 only supports OpenSSL 1.1.1+, currently the 'ssl' module is compiled with 'LibreSSL 2.8.3'. See: https://github.com/urllib3/urllib3/issues/3020\n",
      "  warnings.warn(\n",
      "/Users/bhargavcn/Library/Python/3.9/lib/python/site-packages/tqdm/auto.py:21: TqdmWarning: IProgress not found. Please update jupyter and ipywidgets. See https://ipywidgets.readthedocs.io/en/stable/user_install.html\n",
      "  from .autonotebook import tqdm as notebook_tqdm\n"
     ]
    }
   ],
   "source": [
    "import tensorflow as tf\n",
    "from transformer.dataset import get_dataset, preprocess_sentence\n",
    "from transformer import model\n",
    "from sentence_transformers import SentenceTransformer\n",
    "import datetime\n",
    "import numpy as np\n",
    "from pymilvus import connections, utility\n",
    "from pymilvus import FieldSchema, CollectionSchema, DataType, Collection\n",
    "\n",
    "\n",
    "class MilvusCircuitStorage:\n",
    "    NEAREST_NEIGHBORS = 3\n",
    "    def __init__(self, collection_id=1):\n",
    "        self.collection_id = collection_id\n",
    "        connections.connect(\"default\", host=\"xxx\", port=\"xxxx\")\n",
    "        self._create_collection()\n",
    "    \n",
    "    def show_all_vectors(self):\n",
    "        results = self.collection.query(expr=\"id>=0\",output_fields=[\"embedding\", \"id\"])\n",
    "        vectors = [item[\"embedding\"] for item in results]\n",
    "        ids = [item[\"id\"] for item in results]\n",
    "        # Convert vectors to a numpy array\n",
    "        vectors = np.array(vectors)\n",
    "        print(\"Vector shape:\", vectors.shape)\n",
    "        print(vectors)\n",
    "\n",
    "\n",
    "    def _create_collection(self):\n",
    "        DIMENSIONS = 384\n",
    "        COLLECTION_NAME = \"circuit_embeddings\" + str(self.collection_id)\n",
    "        fields = [\n",
    "            FieldSchema(name=\"id\", dtype=DataType.INT64, is_primary=True, auto_id=True),\n",
    "            FieldSchema(name=\"embedding\", dtype=DataType.FLOAT_VECTOR, dim=DIMENSIONS),\n",
    "            FieldSchema(name=\"text\", dtype=DataType.VARCHAR, max_length=255)\n",
    "        ]\n",
    "        self.schema = CollectionSchema(fields, description=\"Vector collection\")\n",
    "        if utility.has_collection(COLLECTION_NAME):\n",
    "           utility.drop_collection(COLLECTION_NAME)\n",
    "\n",
    "        self.collection = Collection(name=COLLECTION_NAME, schema=self.schema)\n",
    "        self._create_index()\n",
    "        self._load_in_memory()\n",
    "\n",
    "    def insert_vector(self, texts, vectors):\n",
    "        # print(texts, vectors)\n",
    "        self.collection.insert([vectors[0], texts])\n",
    "\n",
    "    def _load_in_memory(self):\n",
    "        self.collection.load()\n",
    "\n",
    "    def _create_index(self):\n",
    "        index_params = {\n",
    "            \"metric_type\": \"COSINE\",\n",
    "            \"index_type\": \"IVF_FLAT\",\n",
    "            \"params\": {\"nlist\": 128}\n",
    "        }\n",
    "        self.collection.create_index(field_name=\"embedding\", index_params=index_params)\n",
    "    \n",
    "    def search_n_nearest(self, query_vector, query_text):\n",
    "        search_params = {\"metric_type\": \"COSINE\", \"params\": {\"nprobe\": 10}}\n",
    "        results = self.collection.search(\n",
    "            data=query_vector,\n",
    "            anns_field=\"embedding\",\n",
    "            param=search_params,\n",
    "            limit=MilvusCircuitStorage.NEAREST_NEIGHBORS,\n",
    "            output_fields=[\"text\"]\n",
    "        )\n",
    "\n",
    "        outputs = []\n",
    "        print(results)\n",
    "        # print(\"****\")\n",
    "        for hit in results[0]:\n",
    "            if hit.entity.get(\"text\") != query_text:\n",
    "                outputs.append(hit.entity.get(\"text\"))\n",
    "        return outputs\n",
    "\n",
    "\n",
    "    def delete(self, key):\n",
    "        self.collection.delete(f\"id == {key}\")\n",
    "        self.collection.flush()\n",
    "    \n",
    "    def close(self):\n",
    "        connections.disconnect(\"default\")\n",
    "\n",
    "\n",
    "class SemanticMemory:\n",
    "    def __init__(self, model_name='all-MiniLM-L6-v2'):\n",
    "        self.vector_db = MilvusCircuitStorage()\n",
    "        self.model = SentenceTransformer(model_name)\n",
    "        self.conversation_history = []\n",
    "        self.vector_dimension = 384\n",
    "        \n",
    "    def add_interaction(self, user_query, bot_response):\n",
    "        interaction = {\n",
    "            'question': user_query,\n",
    "            'answer': bot_response,\n",
    "            'timestamp': datetime.datetime.now()\n",
    "        }\n",
    "        self.conversation_history.append(interaction)\n",
    "        embedding = self.model.encode([user_query])[0]\n",
    "        self.vector_db.insert_vector([user_query], [embedding.reshape(1, -1)])\n",
    "    \n",
    "    def last_conversation(self):\n",
    "        return self.conversation_history[-1] if self.conversation_history else None\n",
    "\n",
    "        \n",
    "    def retrieve_relevant_memory(self, query):\n",
    "        query_vector = self.model.encode([query])[0]\n",
    "        texts = self.vector_db.search_n_nearest(query_vector.reshape(1, -1), query)\n",
    "        return texts\n",
    "\n",
    "    def __del__(self):\n",
    "        print(f\"Memory is being cleared.\")\n",
    "        self.vector_db.close()\n",
    "\n",
    "\n",
    "# memory = SemanticMemory()\n",
    "# memory.add_interaction(\"Hi, How are you?\", \"I am george soros\")\n",
    "# memory.add_interaction(\"What do you do ?\", \"I run hedge fund\")\n",
    "# memory.retrieve_relevant_memory(\"Hello\")\n",
    "# memory.retrieve_relevant_memory(\"How are you?\")\n",
    "\n"
   ]
  },
  {
   "cell_type": "code",
   "execution_count": 2,
   "id": "50c40f31",
   "metadata": {},
   "outputs": [],
   "source": [
    "def is_valid_context(candidates):\n",
    "  MAX_INPUT = 65\n",
    "  return len(candidates) == 1 or (sum(len(x) for x in candidates) < MAX_INPUT)\n",
    "\n",
    "def context_builder(contexts):\n",
    "  text = \"\"\n",
    "  for context in contexts:\n",
    "    text += \" \" + context\n",
    "  return text\n",
    "    \n",
    "\n",
    "from collections import deque\n",
    "def context_setter(user_input, memory: SemanticMemory):\n",
    "  context_candidates = deque([])\n",
    "  last_question = memory.last_conversation()\n",
    "  if not last_question:\n",
    "    return \"\"\n",
    "  for relevant in memory.retrieve_relevant_memory(user_input):\n",
    "    context_candidates.append(relevant)\n",
    "  context_candidates.append(last_question[\"question\"])\n",
    "\n",
    "  while(not is_valid_context(context_candidates)):\n",
    "    context_candidates.popleft()\n",
    "  return context_builder(context_candidates)\n"
   ]
  },
  {
   "cell_type": "code",
   "execution_count": 3,
   "id": "60508cc2-6796-4443-be54-5b24c09dc03e",
   "metadata": {},
   "outputs": [],
   "source": [
    "import numpy as np\n",
    "\n",
    "def evaluate(hparams, chatbot, tokenizer):\n",
    "    memory = SemanticMemory()\n",
    "    while True:\n",
    "        user_input = input(\"You: \")\n",
    "        print(\"You:\"+ user_input)\n",
    "        if user_input.lower() == \"quit\":\n",
    "            print(\"Exiting chatbot. Goodbye!\")\n",
    "            break\n",
    "        inputval = context_setter(user_input, memory)\n",
    "        inputval += user_input\n",
    "        output = predict(hparams, chatbot, tokenizer, inputval)\n",
    "        final_version = output\n",
    "        for i in range(2):\n",
    "            response = predict(hparams, chatbot, tokenizer, user_input+ \"? \"+ final_version + \"Complete the full sentence.\")\n",
    "            print(final_version)\n",
    "            if response != output:\n",
    "                final_version += response + \". \"\n",
    "                output = response\n",
    "                continue\n",
    "            break\n",
    "        \n",
    "        # lastresponse = memory.last_conversation()\n",
    "        # if lastresponse and lastresponse[\"answer\"] == output:\n",
    "        #     print(\"Running again...\")\n",
    "        #     output = predict(hparams, chatbot, tokenizer, user_input)\n",
    "        \n",
    "        print(f\"Bot: {final_version}\")\n",
    "        memory.add_interaction(user_input, final_version)"
   ]
  },
  {
   "cell_type": "code",
   "execution_count": 4,
   "id": "029170d2-a56d-4062-903d-554a276ae806",
   "metadata": {},
   "outputs": [],
   "source": [
    "def inference(hparams, chatbot, tokenizer, sentence):\n",
    "    sentence = preprocess_sentence(sentence)\n",
    "\n",
    "    sentence = tf.expand_dims(\n",
    "        hparams.start_token + tokenizer.encode(sentence) + hparams.end_token, axis=0\n",
    "    )\n",
    "\n",
    "    output = tf.expand_dims(hparams.start_token, 0)\n",
    "\n",
    "    for i in range(hparams.max_length):\n",
    "        predictions = chatbot(inputs=[sentence, output], training=False)\n",
    "\n",
    "        # select the last word from the seq_len dimension\n",
    "        predictions = predictions[:, -1:, :]\n",
    "        predicted_id = tf.cast(tf.argmax(predictions, axis=-1), tf.int32)\n",
    "\n",
    "        # return the result if the predicted_id is equal to the end token\n",
    "        if tf.equal(predicted_id, hparams.end_token[0]):\n",
    "            break\n",
    "\n",
    "        # concatenated the predicted_id to the output which is given to the decoder\n",
    "        # as its input.\n",
    "        output = tf.concat([output, predicted_id], axis=-1)\n",
    "\n",
    "    return tf.squeeze(output, axis=0)\n",
    "\n",
    "\n",
    "def predict(hparams, chatbot, tokenizer, sentence):\n",
    "    prediction = inference(hparams, chatbot, tokenizer, sentence)\n",
    "    predicted_sentence = tokenizer.decode(\n",
    "        [i for i in prediction if i < tokenizer.vocab_size]\n",
    "    )\n",
    "    return predicted_sentence"
   ]
  },
  {
   "cell_type": "code",
   "execution_count": 5,
   "id": "aca1d3f4-5657-42e8-8ec1-520b7624a15f",
   "metadata": {},
   "outputs": [
    {
     "name": "stderr",
     "output_type": "stream",
     "text": [
      "2025-04-17 05:34:46.360324: I metal_plugin/src/device/metal_device.cc:1154] Metal device set to: Apple M2\n",
      "2025-04-17 05:34:46.360586: I metal_plugin/src/device/metal_device.cc:296] systemMemory: 8.00 GB\n",
      "2025-04-17 05:34:46.360608: I metal_plugin/src/device/metal_device.cc:313] maxCacheSize: 2.67 GB\n",
      "2025-04-17 05:34:46.361122: I tensorflow/core/common_runtime/pluggable_device/pluggable_device_factory.cc:303] Could not identify NUMA node of platform GPU ID 0, defaulting to 0. Your kernel may not have been built with NUMA support.\n",
      "2025-04-17 05:34:46.361410: I tensorflow/core/common_runtime/pluggable_device/pluggable_device_factory.cc:269] Created TensorFlow device (/job:localhost/replica:0/task:0/device:GPU:0 with 0 MB memory) -> physical PluggableDevice (device: 0, name: METAL, pci bus id: <undefined>)\n"
     ]
    },
    {
     "name": "stdout",
     "output_type": "stream",
     "text": [
      "********* VOCAB_SIZE: 8151******************\n"
     ]
    }
   ],
   "source": [
    "\n",
    "# import pickle\n",
    "#     PREFIX = hparams.save_model+\".data/\"\n",
    "#     pickle.dump(hparams, open(PREFIX+\"main_config.pkl\", \"wb\"), protocol=0)\n",
    "    \n",
    "#     file = open(PREFIX+\"sorostokenizer.pkl\", 'rb')    \n",
    "#     tokenizer2 = pickle.load(file)\n",
    "#     file = open(\"main_config.pkl\", 'rb')    \n",
    "#     CONFIG = pickle.load(file)\n",
    "# python3 /home/chickmagalurnanjun.b/soros/train.py --save_model model.h5 --batch_size 80 --epochs 40 \n",
    "# --max_samples 50000 --max_length 65 --num_heads 8 --d_model 512 --num_units 2048 --dropout 0.05 --num_layers 4\n",
    "class HYPERPARAMS:\n",
    "    def __init__(self, **kwargs):\n",
    "        for key, value in kwargs.items():\n",
    "            setattr(self, key, value)\n",
    "\n",
    "        \n",
    "hparams = HYPERPARAMS(max_samples= 50000, max_length=65 , num_heads=8, d_model=512, num_units=2048, dropout=0.05, num_layers=4, batch_size=80, vocab_size=8185, save_model=\"model.h5\")\n",
    "data, tokenizer = get_dataset(hparams)\n",
    "chatbot = tf.keras.models.load_model(\n",
    "    hparams.save_model,\n",
    "    custom_objects={\n",
    "        \"PositionalEncoding\": model.PositionalEncoding,\n",
    "        \"MultiHeadAttentionLayer\": model.MultiHeadAttentionLayer,\n",
    "    },\n",
    "    compile=False,\n",
    ")\n",
    "cbot = chatbot\n"
   ]
  },
  {
   "cell_type": "code",
   "execution_count": 6,
   "id": "e6ce42c2-522a-414c-ac1a-6ebeb9bd731e",
   "metadata": {},
   "outputs": [
    {
     "name": "stdout",
     "output_type": "stream",
     "text": [
      "You:With silver at about $30 per ounce, how does it compare to gold as an inflation hedge?\n",
      "during reagangs benign circle the sharp competition from reality , the experiment is likely to be punctuated with such breaks until participants cease to fear them . that is where the second approach using my hypothesis about the credit cycle comes in handy .\n",
      "during reagangs benign circle the sharp competition from reality , the experiment is likely to be punctuated with such breaks until participants cease to fear them . that is where the second approach using my hypothesis about the credit cycle comes in handy .the financial markets are inherently unstable stability can be maintained only if it is made an objective of public policy .. \n",
      "Bot: during reagangs benign circle the sharp competition from reality , the experiment is likely to be punctuated with such breaks until participants cease to fear them . that is where the second approach using my hypothesis about the credit cycle comes in handy .the financial markets are inherently unstable stability can be maintained only if it is made an objective of public policy .. the financial markets are inherently unstable stability can be maintained only if it is made an objective of public policy . instability is cumulative . as i have tried to show elsewhere in this book , the longer markets are allowed to develop without regulation , the more unstable they become , until eventually they crash .. \n",
      "You:The 10-year Treasury yield is about 4.5% - would you suggest bonds as a safe haven in the current market?\n",
      "data: ['[\"id: 457406997301038902, distance: 0.24520617723464966, entity: {\\'text\\': \\'With silver at about $30 per ounce, how does it compare to gold as an inflation hedge?\\'}\"]']\n",
      "but before i do so , i must remind the reader why it arises in the first place . if this were a scientific experiment , my financial success would serve as evidence of the validity of the hypotheses on which my decisions were based . but the experiment does not qualify as a evaluation\n",
      "but before i do so , i must remind the reader why it arises in the first place . if this were a scientific experiment , my financial success would serve as evidence of the validity of the hypotheses on which my decisions were based . but the experiment does not qualify as a evaluationif so , i am prepared to sit out a rally in stocks and bonds , especially as i am going to china for a month .. \n",
      "Bot: but before i do so , i must remind the reader why it arises in the first place . if this were a scientific experiment , my financial success would serve as evidence of the validity of the hypotheses on which my decisions were based . but the experiment does not qualify as a evaluationif so , i am prepared to sit out a rally in stocks and bonds , especially as i am going to china for a month .. if i did not believe that my investment activities can serve that purpose , i would not want to write about them .. \n",
      "You:What do you think about the S&P 500 trading around 5,800 points right now? Is it overvalued?\n",
      "data: ['[\"id: 457406997301038904, distance: 0.33901941776275635, entity: {\\'text\\': \\'The 10-year Treasury yield is about 4.5% - would you suggest bonds as a safe haven in the current market?\\'}\", \"id: 457406997301038902, distance: 0.26828598976135254, entity: {\\'text\\': \\'With silver at about $30 per ounce, how does it compare to gold as an inflation hedge?\\'}\"]']\n",
      "short term long term japanese commodities oil gold phase august december bull market of a lifetime that i have just articulated and partly by more practical considerations .\n",
      "Bot: short term long term japanese commodities oil gold phase august december bull market of a lifetime that i have just articulated and partly by more practical considerations .\n",
      "You:Bitcoin has been fluctuating between $65,000-$70,000 lately - is this a good entry point for someone new to crypto?\n",
      "data: ['[\"id: 457406997301038906, distance: 0.4496583640575409, entity: {\\'text\\': \\'What do you think about the S&P 500 trading around 5,800 points right now? Is it overvalued?\\'}\", \"id: 457406997301038904, distance: 0.3205498158931732, entity: {\\'text\\': \\'The 10-year Treasury yield is about 4.5% - would you suggest bonds as a safe haven in the current market?\\'}\", \"id: 457406997301038902, distance: 0.28786349296569824, entity: {\\'text\\': \\'With silver at about $30 per ounce, how does it compare to gold as an inflation hedge?\\'}\"]']\n",
      "short term long term japanese commodities oil gold tions failed to protect me against a deterioration in my investment positions and the asset value of the fund has declined .\n",
      "short term long term japanese commodities oil gold tions failed to protect me against a deterioration in my investment positions and the asset value of the fund has declined .my short positions in oil have been going against me .. \n",
      "Bot: short term long term japanese commodities oil gold tions failed to protect me against a deterioration in my investment positions and the asset value of the fund has declined .my short positions in oil have been going against me .. short term long term japanese commodities oil gold tions failed to protect me against a deterioration in my investment positions and the asset value of the fund has declined .. \n",
      "You:quit\n",
      "Exiting chatbot. Goodbye!\n",
      "Memory is being cleared.\n"
     ]
    }
   ],
   "source": [
    "hparams.max_length = 300\n",
    "evaluate(hparams, chatbot, tokenizer)"
   ]
  },
  {
   "cell_type": "code",
   "execution_count": null,
   "id": "4e11d565-42b8-428d-a5d0-caa1e2f3a166",
   "metadata": {},
   "outputs": [
    {
     "name": "stdout",
     "output_type": "stream",
     "text": [
      "You:  Current Gold price $2,400 an ounce, would you recommend adding gold to my current portfolio at this price?\n"
     ]
    },
    {
     "name": "stdout",
     "output_type": "stream",
     "text": [
      "Bot: this would effectively meant a high exchange rate policy .\n"
     ]
    },
    {
     "name": "stdout",
     "output_type": "stream",
     "text": [
      "You:  With silver trading at about $30 per ounce, how does it compare to gold as an inflation hedge?\n"
     ]
    },
    {
     "name": "stdout",
     "output_type": "stream",
     "text": [
      "Bot: this would involve not only putting our own house in order but also bringing a new international financial order into existence which is appropriate to the altered circumstances .\n"
     ]
    },
    {
     "name": "stdout",
     "output_type": "stream",
     "text": [
      "You:  What is the altered circumstances ?\n"
     ]
    },
    {
     "name": "stdout",
     "output_type": "stream",
     "text": [
      "Bot: this would involve not only putting our own house in order but also bringing a new international financial order into existence which is appropriate to the altered circumstances .\n"
     ]
    },
    {
     "name": "stdout",
     "output_type": "stream",
     "text": [
      "You:  What is the altered circumstances ?\n"
     ]
    },
    {
     "name": "stdout",
     "output_type": "stream",
     "text": [
      "Bot: this would involve not only putting our own house in order but also bringing a new international financial order into existence which is appropriate to the altered circumstances .\n"
     ]
    },
    {
     "name": "stdout",
     "output_type": "stream",
     "text": [
      "You:  What is the altered circumstances ?\n"
     ]
    },
    {
     "name": "stdout",
     "output_type": "stream",
     "text": [
      "Bot: the second generalization is that there is bound to be a flaw in the participants perception of the fundamentals . the flaw may reflexivity in the stock market not be apparent in the early stages but it is likely to manifest itself later on . when it does , it sets the stage for\n"
     ]
    },
    {
     "name": "stdout",
     "output_type": "stream",
     "text": [
      "You:  Continue the sentence.\n"
     ]
    },
    {
     "name": "stdout",
     "output_type": "stream",
     "text": [
      "Bot: the divergence between underlying trends and investor recognition persists at all times and the astute investor can take advantage of it .\n"
     ]
    },
    {
     "name": "stdout",
     "output_type": "stream",
     "text": [
      "You:  The GBPUSD trading and 1.3194. That's within six pips of the high for the day at 1.3200. The high price for the year is also being approached. That level came in at 1.32067 reached on April 3.  Move above that level and a swing area between 1.3221 to 1.3245 would be targeted.\n"
     ]
    },
    {
     "name": "stdout",
     "output_type": "stream",
     "text": [
      "Bot: the paradox of systemic reform i have provided the outlines not only of a viable international financial system but also of a viable economic policy for the united states . it is no more than a sketch or a vision but it could be elaborated to cover other aspects\n"
     ]
    },
    {
     "name": "stdout",
     "output_type": "stream",
     "text": [
      "You:  Continue the sentence.\n"
     ]
    },
    {
     "name": "stdout",
     "output_type": "stream",
     "text": [
      "Bot: the decline in the japanese stock market has turned into a veritable rout in the last few days . the market as a whole has dropped by some but the stocks that i own , which are all real estate related , are off from their recent highs . the bond market ,\n"
     ]
    },
    {
     "name": "stdout",
     "output_type": "stream",
     "text": [
      "You:  Continue the sentence\n"
     ]
    },
    {
     "name": "stdout",
     "output_type": "stream",
     "text": [
      "Bot: the decline in the japanese stock market has turned into a veritable rout in the last few days . the market as a whole has dropped by some but the stocks that i own , which are all real estate related , are off from their recent highs . the bond market ,\n"
     ]
    },
    {
     "name": "stdout",
     "output_type": "stream",
     "text": [
      "You:  exit\n"
     ]
    },
    {
     "name": "stdout",
     "output_type": "stream",
     "text": [
      "Exiting chatbot. Goodbye!\n"
     ]
    }
   ],
   "source": [
    "# evaluate(hparams, chatbot, tokenizer)"
   ]
  },
  {
   "cell_type": "code",
   "execution_count": 16,
   "id": "a3e581ee-3d27-4561-b07b-5c28b81bf258",
   "metadata": {},
   "outputs": [],
   "source": [
    "hparams.max_length = 300\n",
    "# evaluate(hparams, chatbot, tokenizer)\n",
    "# !python3 -m pip install langchain==0.2.0"
   ]
  },
  {
   "cell_type": "code",
   "execution_count": 19,
   "id": "877ccb83",
   "metadata": {},
   "outputs": [],
   "source": [
    "from langchain_core.language_models import LLM\n",
    "# import torch\n",
    "\n",
    "class MyTransformerQA(LLM):\n",
    "    def __init__(self, *args, **kwargs):\n",
    "        super().__init__()\n",
    "\n",
    "    @property\n",
    "    def _llm_type(self) -> str:\n",
    "        return \"custom\"\n",
    "\n",
    "    def _call(self, prompt: str, stop=None, run_manager = None, chatbot=None)-> str:\n",
    "        # Assume simple Q&A structure: extract question and context\n",
    "        # Format: \"Context: ... \\n Question: ...\"\n",
    "        if \"Question:\" not in prompt or \"Context:\" not in prompt:\n",
    "            return \"Invalid input format.\"\n",
    "        print(prompt or \"No Prompt\")\n",
    "        context = prompt.split(\"Context:\")[1].split(\"Question:\")[0].strip()\n",
    "        question = prompt.split(\"Question:\")[1].split(\"Assistant:\")[0].strip()\n",
    "        print(context)\n",
    "        print(question)\n",
    "\n",
    "        output = predict(hparams, cbot, tokenizer, context+question or \"Hello\")\n",
    "        return output"
   ]
  },
  {
   "cell_type": "code",
   "execution_count": 20,
   "id": "4c4372b4",
   "metadata": {},
   "outputs": [
    {
     "name": "stdout",
     "output_type": "stream",
     "text": [
      "\n",
      "\n",
      "\u001b[1m> Entering new ConversationChain chain...\u001b[0m\n",
      "Prompt after formatting:\n",
      "\u001b[32;1m\u001b[1;3m\n",
      "        You are role of chatbot to provide investment insights in this conversation and will answer the related questions.\n",
      "        Context: \n",
      "        Question: Who are you?\n",
      "        Assistant: \u001b[0m\n",
      "\n",
      "        You are role of chatbot to provide investment insights in this conversation and will answer the related questions.\n",
      "        Context: \n",
      "        Question: Who are you?\n",
      "        Assistant: \n",
      "\n",
      "Who are you?\n",
      "\n",
      "\u001b[1m> Finished chain.\u001b[0m\n"
     ]
    },
    {
     "data": {
      "text/plain": [
       "'the fact is that the system survived and the recent changes in economic management improve the chances that it will continue to survive .'"
      ]
     },
     "execution_count": 20,
     "metadata": {},
     "output_type": "execute_result"
    }
   ],
   "source": [
    "from langchain.chains import ConversationChain\n",
    "from langchain.memory import ConversationBufferMemory\n",
    "from langchain.prompts import PromptTemplate\n",
    "\n",
    "qa_model = MyTransformerQA(\"deepset/bert-base-cased-squad2\")\n",
    "\n",
    "memory = ConversationBufferMemory()\n",
    "prompt_template = \"\"\"\n",
    "        You are role of chatbot to provide investment insights in this conversation and will answer the related questions.\n",
    "        Context: {history}\n",
    "        Question: {input}\n",
    "        Assistant: \"\"\"\n",
    "        \n",
    "prompt = PromptTemplate(\n",
    "input_variables=[\"history\", \"input\"],\n",
    "template=prompt_template\n",
    ")\n",
    "\n",
    "chat = ConversationChain(\n",
    "    prompt=prompt,\n",
    "    llm=qa_model,\n",
    "    memory=memory,\n",
    "    verbose=True\n",
    ")\n",
    "\n",
    "chat.run(\"Who are you?\")"
   ]
  },
  {
   "cell_type": "code",
   "execution_count": 9,
   "id": "473cce89",
   "metadata": {},
   "outputs": [
    {
     "name": "stdout",
     "output_type": "stream",
     "text": [
      "Final Answer: Breifly says the bundesbank has been consistent in the pursuit of its objectives , especially if we include institutional self preservation among those objectives , and amazing successful\n"
     ]
    }
   ],
   "source": [
    "from transformers import AutoTokenizer, AutoModelForSeq2SeqLM\n",
    "import torch\n",
    "\n",
    "# Choose a light model for CPU\n",
    "model_name = \"google/flan-t5-small\"  # or \"t5-small\"\n",
    "tokenizer = AutoTokenizer.from_pretrained(model_name)\n",
    "model = AutoModelForSeq2SeqLM.from_pretrained(model_name)\n",
    "\n",
    "def synthesize_response(a, context_history, user_question):\n",
    "    prompt = f\"\"\"\n",
    "    Breifly elaborate the following sentences:\n",
    "    {user_question}\n",
    "    \"\"\"\n",
    "    inputs = tokenizer(prompt, return_tensors=\"pt\", truncation=False).to(\"cpu\")\n",
    "    outputs = model.generate(**inputs, max_length=1000, num_beams=4, early_stopping=False)\n",
    "    return tokenizer.decode(outputs[0], skip_special_tokens=True)\n",
    "\n",
    "# Example usage\n",
    "bot_out = \"Paris is a beautiful city and a popular tourist destination.\"\n",
    "vec_context = \"i am now inclined to close out the positions i hold in nearby months and establish a short position for next spring. the price would be lower, but the discount per month would also be lower. if my analysis is correct, the later the break comes the bigger it will be the price would be lower, but the discount per month would also be lower. if my analysis is correct, the later the break comes the bigger it will be. the views i have outlined here are sufficient to serve as a basis for what i call macroeconomic investment decisions... the currencies would be a greater degree of stability than we have experienced since the breakdown of bretton woods. using the notation adopted earlier, we can depict the key relationship in the newly emerging state of affairs as follows the picture is much simpler than that of the imperial circle be exchange rates are stabilize.\"\n",
    "vec_context = \"China targets U.S. services and other areas as it decries 'meaningless' tariff hikes on goods\"\n",
    "question = \"Trump tarrifs hit a new high\"\n",
    "context = \"the bundesbank has been consistent in the pursuit of its objectives , especially if we include institutional self preservation among those objectives , and amazing successful.\"\n",
    "\n",
    "final = synthesize_response(bot_out, vec_context, context)\n",
    "print(\"Final Answer:\", final)\n",
    "\n",
    "\n",
    "\n",
    "def generate_question(text):\n",
    "        prompt = f\"\"\"\n",
    "          {text}\n",
    "          Refine the titles as curious questions.\n",
    "          \"\"\"\n",
    "        inputs = tokenizer(prompt, return_tensors=\"pt\", truncation=True).to(\"cpu\")\n",
    "        outputs = model.generate(**inputs, max_length=256, num_beams=4, early_stopping=True)\n",
    "        return tokenizer.decode(outputs[0], skip_special_tokens=True)"
   ]
  },
  {
   "cell_type": "code",
   "execution_count": null,
   "id": "34ce2080",
   "metadata": {},
   "outputs": [
    {
     "name": "stderr",
     "output_type": "stream",
     "text": [
      "No model was supplied, defaulted to sshleifer/distilbart-cnn-12-6 and revision a4f8f3e (https://huggingface.co/sshleifer/distilbart-cnn-12-6).\n",
      "Using a pipeline without specifying a model name and revision in production is not recommended.\n",
      "Device set to use mps:0\n",
      "Your max_length is set to 500, but your input_length is only 119. Since this is a summarization task, where outputs shorter than the input are typically wanted, you might consider decreasing max_length manually, e.g. summarizer('...', max_length=59)\n"
     ]
    },
    {
     "name": "stdout",
     "output_type": "stream",
     "text": [
      " my brief account of recent events is sufficient to show that regulators are not exempt from bias . The collapse of the japanese bond market was the first part of the international economy was u . s .\n"
     ]
    }
   ],
   "source": [
    "from transformers import pipeline\n",
    "summarizer = pipeline(\"summarization\")\n",
    "def summarize_and_clean(text):\n",
    "    return summarizer(text, max_length=500, min_length=30, do_sample=False)[0]['summary_text']\n",
    "\n",
    "text = \"using the concept of reflexivity to predict the future course of events is itself a re flexive process , and a high degree of success is often the precursor to a severe setback .using the concept of reflexivity to predict the future course of events is itself a re flexive process , and a high degree of success is often the precursor to a severe setback . it is clear from the experiment that my perceptions are partial and subject to correction by events ..i expect the break to be temporary there is no point in raising cash now . i have done so , i have had considerable difficulty in arriving at this conclusion . in the last few months of the s , the imperial circle was unwinding and there was a danger it would start spinning in.\"\n",
    "print(summarize_and_clean(text))"
   ]
  },
  {
   "cell_type": "code",
   "execution_count": 64,
   "id": "38612710",
   "metadata": {},
   "outputs": [
    {
     "name": "stdout",
     "output_type": "stream",
     "text": [
      "{'bozo': False, 'entries': [{'title': 'ECB cuts rates to 2.25% amid Trump trade war', 'title_detail': {'type': 'text/plain', 'language': None, 'base': 'https://www.ft.com/rss/home', 'value': 'ECB cuts rates to 2.25% amid Trump trade war'}, 'summary': 'Growth and inflation set to slow as central bankers prepare for tariff impact', 'summary_detail': {'type': 'text/html', 'language': None, 'base': 'https://www.ft.com/rss/home', 'value': 'Growth and inflation set to slow as central bankers prepare for tariff impact'}, 'links': [{'rel': 'alternate', 'type': 'text/html', 'href': 'https://www.ft.com/content/70934d09-dfa5-4ac0-b5a2-2d7ae39c8d95'}], 'link': 'https://www.ft.com/content/70934d09-dfa5-4ac0-b5a2-2d7ae39c8d95', 'id': '70934d09-dfa5-4ac0-b5a2-2d7ae39c8d95', 'guidislink': False, 'published': 'Thu, 17 Apr 2025 14:06:31 GMT', 'published_parsed': time.struct_time(tm_year=2025, tm_mon=4, tm_mday=17, tm_hour=14, tm_min=6, tm_sec=31, tm_wday=3, tm_yday=107, tm_isdst=0), 'media_thumbnail': [{'url': 'https://www.ft.com/__origami/service/image/v2/images/raw/https%3A%2F%2Fd1e00ek4ebabms.cloudfront.net%2Fproduction%2F1f5a06e7-9620-4ceb-bedc-2a3ee9e13d62.jpg?source=next-home-page&dpr=2&width=580&fit=scale-down'}], 'href': ''}, {'title': 'IMF chief cuts growth forecast over ‘off the charts’ trade uncertainty', 'title_detail': {'type': 'text/plain', 'language': None, 'base': 'https://www.ft.com/rss/home', 'value': 'IMF chief cuts growth forecast over ‘off the charts’ trade uncertainty'}, 'summary': 'Kristalina Georgieva warns that Donald Trump’s tariff ‘reboot’ threatens to raise prices and play havoc with markets', 'summary_detail': {'type': 'text/html', 'language': None, 'base': 'https://www.ft.com/rss/home', 'value': 'Kristalina Georgieva warns that Donald Trump’s tariff ‘reboot’ threatens to raise prices and play havoc with markets'}, 'links': [{'rel': 'alternate', 'type': 'text/html', 'href': 'https://www.ft.com/content/6084da8c-73f2-4405-8b66-5aa4066c3db8'}], 'link': 'https://www.ft.com/content/6084da8c-73f2-4405-8b66-5aa4066c3db8', 'id': '6084da8c-73f2-4405-8b66-5aa4066c3db8', 'guidislink': False, 'published': 'Thu, 17 Apr 2025 14:01:54 GMT', 'published_parsed': time.struct_time(tm_year=2025, tm_mon=4, tm_mday=17, tm_hour=14, tm_min=1, tm_sec=54, tm_wday=3, tm_yday=107, tm_isdst=0), 'media_thumbnail': [{'url': 'https://www.ft.com/__origami/service/image/v2/images/raw/https%3A%2F%2Fd1e00ek4ebabms.cloudfront.net%2Fproduction%2Fced1de9b-08b4-41a2-a82e-1c1e799ddb64.jpg?source=next-home-page&dpr=2&width=580&fit=scale-down'}], 'href': ''}, {'title': 'Trump says Fed chair’s ‘termination cannot come fast enough’', 'title_detail': {'type': 'text/plain', 'language': None, 'base': 'https://www.ft.com/rss/home', 'value': 'Trump says Fed chair’s ‘termination cannot come fast enough’'}, 'summary': 'Attack follows pressure from US president for central bank to cut interest rates', 'summary_detail': {'type': 'text/html', 'language': None, 'base': 'https://www.ft.com/rss/home', 'value': 'Attack follows pressure from US president for central bank to cut interest rates'}, 'links': [{'rel': 'alternate', 'type': 'text/html', 'href': 'https://www.ft.com/content/8b8a6582-039d-4d56-b1cb-95e70badb4e5'}], 'link': 'https://www.ft.com/content/8b8a6582-039d-4d56-b1cb-95e70badb4e5', 'id': '8b8a6582-039d-4d56-b1cb-95e70badb4e5', 'guidislink': False, 'published': 'Thu, 17 Apr 2025 10:59:08 GMT', 'published_parsed': time.struct_time(tm_year=2025, tm_mon=4, tm_mday=17, tm_hour=10, tm_min=59, tm_sec=8, tm_wday=3, tm_yday=107, tm_isdst=0), 'media_thumbnail': [{'url': 'https://www.ft.com/__origami/service/image/v2/images/raw/https%3A%2F%2Fd1e00ek4ebabms.cloudfront.net%2Fproduction%2F70405974-1de3-4094-b04e-d423f29eb5ec.jpg?source=next-home-page&dpr=2&width=580&fit=scale-down'}], 'href': ''}, {'title': 'Is the world losing faith in the almighty US dollar?', 'title_detail': {'type': 'text/plain', 'language': None, 'base': 'https://www.ft.com/rss/home', 'value': 'Is the world losing faith in the almighty US dollar?'}, 'summary': 'Donald Trump’s trade war is forcing investors to confront the possibility that the dominance of the US currency might fade — or even end', 'summary_detail': {'type': 'text/html', 'language': None, 'base': 'https://www.ft.com/rss/home', 'value': 'Donald Trump’s trade war is forcing investors to confront the possibility that the dominance of the US currency might fade — or even end'}, 'links': [{'rel': 'alternate', 'type': 'text/html', 'href': 'https://www.ft.com/content/73294414-8cdc-4298-a46a-e548253c90c0'}], 'link': 'https://www.ft.com/content/73294414-8cdc-4298-a46a-e548253c90c0', 'id': '73294414-8cdc-4298-a46a-e548253c90c0', 'guidislink': False, 'published': 'Thu, 17 Apr 2025 04:00:06 GMT', 'published_parsed': time.struct_time(tm_year=2025, tm_mon=4, tm_mday=17, tm_hour=4, tm_min=0, tm_sec=6, tm_wday=3, tm_yday=107, tm_isdst=0), 'media_thumbnail': [{'url': 'https://www.ft.com/__origami/service/image/v2/images/raw/https%3A%2F%2Fd1e00ek4ebabms.cloudfront.net%2Fproduction%2Fb9ef6815-6ba5-49c0-a188-7df891ec7f7c.jpg?source=next-home-page&dpr=2&width=580&fit=scale-down'}], 'href': ''}, {'title': 'Inside the factory making Europe’s machine guns — by hand', 'title_detail': {'type': 'text/plain', 'language': None, 'base': 'https://www.ft.com/rss/home', 'value': 'Inside the factory making Europe’s machine guns — by hand'}, 'summary': 'FN Herstal’s small arms are back in demand. But the Belgian gunmaker can only move as fast as its artisanal labour', 'summary_detail': {'type': 'text/html', 'language': None, 'base': 'https://www.ft.com/rss/home', 'value': 'FN Herstal’s small arms are back in demand. But the Belgian gunmaker can only move as fast as its artisanal labour'}, 'links': [{'rel': 'alternate', 'type': 'text/html', 'href': 'https://www.ft.com/content/ba37cf0a-6f78-4b32-ad3e-14ccddbdf848'}], 'link': 'https://www.ft.com/content/ba37cf0a-6f78-4b32-ad3e-14ccddbdf848', 'id': 'ba37cf0a-6f78-4b32-ad3e-14ccddbdf848', 'guidislink': False, 'published': 'Thu, 17 Apr 2025 04:00:06 GMT', 'published_parsed': time.struct_time(tm_year=2025, tm_mon=4, tm_mday=17, tm_hour=4, tm_min=0, tm_sec=6, tm_wday=3, tm_yday=107, tm_isdst=0), 'media_thumbnail': [{'url': 'https://www.ft.com/__origami/service/image/v2/images/raw/https%3A%2F%2Fd1e00ek4ebabms.cloudfront.net%2Fproduction%2Fb3adc463-00c5-48e1-966b-07b033fb9be0.jpg?source=next-home-page&dpr=2&width=580&fit=scale-down'}], 'href': ''}, {'title': 'Trading in two stocks surged before Trump family appointments announced', 'title_detail': {'type': 'text/plain', 'language': None, 'base': 'https://www.ft.com/rss/home', 'value': 'Trading in two stocks surged before Trump family appointments announced'}, 'summary': 'Experts view sharp rises in share price and turnover of Unusual Machines and Dominari as ‘clearly unusual’', 'summary_detail': {'type': 'text/html', 'language': None, 'base': 'https://www.ft.com/rss/home', 'value': 'Experts view sharp rises in share price and turnover of Unusual Machines and Dominari as ‘clearly unusual’'}, 'links': [{'rel': 'alternate', 'type': 'text/html', 'href': 'https://www.ft.com/content/1d9e9e91-3b61-4060-8367-5bba18501df6'}], 'link': 'https://www.ft.com/content/1d9e9e91-3b61-4060-8367-5bba18501df6', 'id': '1d9e9e91-3b61-4060-8367-5bba18501df6', 'guidislink': False, 'published': 'Thu, 17 Apr 2025 04:00:06 GMT', 'published_parsed': time.struct_time(tm_year=2025, tm_mon=4, tm_mday=17, tm_hour=4, tm_min=0, tm_sec=6, tm_wday=3, tm_yday=107, tm_isdst=0), 'media_thumbnail': [{'url': 'https://www.ft.com/__origami/service/image/v2/images/raw/https%3A%2F%2Fd1e00ek4ebabms.cloudfront.net%2Fproduction%2F202ac977-a1d3-4335-9c1a-ab56babff7b7.jpg?source=next-home-page&dpr=2&width=580&fit=scale-down'}], 'href': ''}, {'title': 'Nvidia chief Jensen Huang flies to Beijing for talks', 'title_detail': {'type': 'text/plain', 'language': None, 'base': 'https://www.ft.com/rss/home', 'value': 'Nvidia chief Jensen Huang flies to Beijing for talks'}, 'summary': 'Meetings with Chinese vice-premier and DeepSeek founder come after US clamps down on chipmaker’s sales to China', 'summary_detail': {'type': 'text/html', 'language': None, 'base': 'https://www.ft.com/rss/home', 'value': 'Meetings with Chinese vice-premier and DeepSeek founder come after US clamps down on chipmaker’s sales to China'}, 'links': [{'rel': 'alternate', 'type': 'text/html', 'href': 'https://www.ft.com/content/7a49186c-8e51-4540-affe-15239c0914e3'}], 'link': 'https://www.ft.com/content/7a49186c-8e51-4540-affe-15239c0914e3', 'id': '7a49186c-8e51-4540-affe-15239c0914e3', 'guidislink': False, 'published': 'Thu, 17 Apr 2025 09:17:03 GMT', 'published_parsed': time.struct_time(tm_year=2025, tm_mon=4, tm_mday=17, tm_hour=9, tm_min=17, tm_sec=3, tm_wday=3, tm_yday=107, tm_isdst=0), 'media_thumbnail': [{'url': 'https://www.ft.com/__origami/service/image/v2/images/raw/https%3A%2F%2Fd1e00ek4ebabms.cloudfront.net%2Fproduction%2Fb8b16f54-d0a1-4cce-a179-0916af0f772d.jpg?source=next-home-page&dpr=2&width=580&fit=scale-down'}], 'href': ''}, {'title': 'Astronomers claim strongest evidence yet of extraterrestrial life', 'title_detail': {'type': 'text/plain', 'language': None, 'base': 'https://www.ft.com/rss/home', 'value': 'Astronomers claim strongest evidence yet of extraterrestrial life'}, 'summary': 'Distant planet is covered with an ocean that may be teeming with microbial activity', 'summary_detail': {'type': 'text/html', 'language': None, 'base': 'https://www.ft.com/rss/home', 'value': 'Distant planet is covered with an ocean that may be teeming with microbial activity'}, 'links': [{'rel': 'alternate', 'type': 'text/html', 'href': 'https://www.ft.com/content/01423933-0ce3-4c07-a66c-06f383201ade'}], 'link': 'https://www.ft.com/content/01423933-0ce3-4c07-a66c-06f383201ade', 'id': '01423933-0ce3-4c07-a66c-06f383201ade', 'guidislink': False, 'published': 'Wed, 16 Apr 2025 23:01:05 GMT', 'published_parsed': time.struct_time(tm_year=2025, tm_mon=4, tm_mday=16, tm_hour=23, tm_min=1, tm_sec=5, tm_wday=2, tm_yday=106, tm_isdst=0), 'media_thumbnail': [{'url': 'https://www.ft.com/__origami/service/image/v2/images/raw/https%3A%2F%2Fd1e00ek4ebabms.cloudfront.net%2Fproduction%2Fd0f542bb-9a11-4b88-8585-afdd1eb26725.jpg?source=next-home-page&dpr=2&width=580&fit=scale-down'}], 'href': ''}, {'title': 'When aliens call, look to the ‘little green swan’ trade', 'title_detail': {'type': 'text/plain', 'language': None, 'base': 'https://www.ft.com/rss/home', 'value': 'When aliens call, look to the ‘little green swan’ trade'}, 'summary': 'New markets could be opening up — even if they are 124 light years away', 'summary_detail': {'type': 'text/html', 'language': None, 'base': 'https://www.ft.com/rss/home', 'value': 'New markets could be opening up — even if they are 124 light years away'}, 'links': [{'rel': 'alternate', 'type': 'text/html', 'href': 'https://www.ft.com/content/4502e62e-4538-42e6-a3a1-d9e5db038698'}], 'link': 'https://www.ft.com/content/4502e62e-4538-42e6-a3a1-d9e5db038698', 'id': '4502e62e-4538-42e6-a3a1-d9e5db038698', 'guidislink': False, 'published': 'Thu, 17 Apr 2025 00:00:05 GMT', 'published_parsed': time.struct_time(tm_year=2025, tm_mon=4, tm_mday=17, tm_hour=0, tm_min=0, tm_sec=5, tm_wday=3, tm_yday=107, tm_isdst=0), 'media_thumbnail': [{'url': 'https://www.ft.com/__origami/service/image/v2/images/raw/https%3A%2F%2Fd1e00ek4ebabms.cloudfront.net%2Fproduction%2F4acbeb03-0f58-4075-8b8f-2f766dd9c000.jpg?source=next-home-page&dpr=2&width=580&fit=scale-down'}], 'href': ''}, {'title': 'Blackstone president warns US risks recession without trade deals', 'title_detail': {'type': 'text/plain', 'language': None, 'base': 'https://www.ft.com/rss/home', 'value': 'Blackstone president warns US risks recession without trade deals'}, 'summary': 'Progress in ‘tariff diplomacy’ will determine level of danger for economy, says Jonathan Gray', 'summary_detail': {'type': 'text/html', 'language': None, 'base': 'https://www.ft.com/rss/home', 'value': 'Progress in ‘tariff diplomacy’ will determine level of danger for economy, says Jonathan Gray'}, 'links': [{'rel': 'alternate', 'type': 'text/html', 'href': 'https://www.ft.com/content/1326ad5e-f44f-40ca-aa07-3a619fe633c7'}], 'link': 'https://www.ft.com/content/1326ad5e-f44f-40ca-aa07-3a619fe633c7', 'id': '1326ad5e-f44f-40ca-aa07-3a619fe633c7', 'guidislink': False, 'published': 'Thu, 17 Apr 2025 11:00:52 GMT', 'published_parsed': time.struct_time(tm_year=2025, tm_mon=4, tm_mday=17, tm_hour=11, tm_min=0, tm_sec=52, tm_wday=3, tm_yday=107, tm_isdst=0), 'media_thumbnail': [{'url': 'https://www.ft.com/__origami/service/image/v2/images/raw/https%3A%2F%2Fd1e00ek4ebabms.cloudfront.net%2Fproduction%2F7c82537d-53e0-4928-ac01-b72f62056f82.jpg?source=next-home-page&dpr=2&width=580&fit=scale-down'}], 'href': ''}], 'feed': {'title': 'International homepage', 'title_detail': {'type': 'text/plain', 'language': None, 'base': 'https://www.ft.com/rss/home', 'value': 'International homepage'}, 'subtitle': 'International homepage', 'subtitle_detail': {'type': 'text/html', 'language': None, 'base': 'https://www.ft.com/rss/home', 'value': 'International homepage'}, 'links': [{'rel': 'alternate', 'type': 'text/html', 'href': 'https://www.ft.com'}, {'href': 'https://www.ft.com/rss/home/international', 'rel': 'self', 'type': 'application/rss+xml'}], 'link': 'https://www.ft.com', 'generator_detail': {'name': 'ft.com'}, 'generator': 'ft.com', 'updated': 'Thu, 17 Apr 2025 15:00:49 GMT', 'updated_parsed': time.struct_time(tm_year=2025, tm_mon=4, tm_mday=17, tm_hour=15, tm_min=0, tm_sec=49, tm_wday=3, tm_yday=107, tm_isdst=0), 'rights': '© Copyright The Financial Times Ltd 2025. \"FT\" and \"Financial Times\" are trademarks of the Financial Times. See http://www.ft.com/servicestools/help/terms#legal1 for the terms and conditions of reuse.', 'rights_detail': {'type': 'text/plain', 'language': None, 'base': 'https://www.ft.com/rss/home', 'value': '© Copyright The Financial Times Ltd 2025. \"FT\" and \"Financial Times\" are trademarks of the Financial Times. See http://www.ft.com/servicestools/help/terms#legal1 for the terms and conditions of reuse.'}, 'language': 'en', 'publisher': 'client.support@ft.com (FT Client Support)', 'publisher_detail': {'name': 'FT Client Support', 'email': 'client.support@ft.com'}, 'ttl': '15', 'tags': [{'term': 'Newspapers', 'scheme': None, 'label': None}]}, 'headers': {'connection': 'close', 'content-length': '7973', 'allow': 'GET, HEAD', 'x-xss-protection': '1; mode=block', 'content-type': 'text/xml; charset=utf-8', 'x-download-options': 'noopen', 'etag': 'W/\"1f25-MIL4Vs2yQBUGtyTzjQNDdqIdO2w\"', 'cache-control': 'max-age=30', 'accept-ranges': 'bytes', 'date': 'Thu, 17 Apr 2025 15:03:49 GMT', 'age': '180', 'vary': 'ft-flags, accept, et-app, FT-Site, Accept-Encoding', 'set-cookie': 'spoor-id=bc469033-8b95-48cc-a66f-63a22687984d; Expires=Fri, 17 Apr 2026 15:03:49 GMT; Domain=.ft.com; Path=/', 'strict-transport-security': 'max-age=63072000; includeSubDomains; preload', 'x-content-type-options': 'nosniff', 'content-security-policy': 'upgrade-insecure-requests; frame-ancestors https://*.ft.com https://*.chromatic.com ; report-uri https://csp-report.ft.com/33C06499-DBAB-4FCB-880F-75B0467895F5', 'content-security-policy-report-only': \"default-src https://*.ft.com https: ; font-src https://*.ft.com https: data: ; img-src https://*.ft.com https: data: ; media-src https://*.ft.com https: data: ; script-src 'unsafe-inline' 'unsafe-eval' https://*.ft.com https: ; style-src 'unsafe-inline' https://*.ft.com https: ; worker-src blob: ; connect-src https: wss://ft.coral.coralproject.net ; frame-ancestors https://*.ft.com https://*.chromatic.com ; report-uri https://csp-report.ft.com/33C06499-DBAB-4FCB-880F-75B0467895F5\"}, 'etag': 'W/\"1f25-MIL4Vs2yQBUGtyTzjQNDdqIdO2w\"', 'href': 'https://www.ft.com/rss/home', 'status': 200, 'encoding': 'utf-8', 'version': 'rss20', 'namespaces': {'dc': 'http://purl.org/dc/elements/1.1/', 'content': 'http://purl.org/rss/1.0/modules/content/', '': 'http://www.w3.org/2005/Atom', 'media': 'http://search.yahoo.com/mrss/'}}\n",
      "When aliens call, look to the ‘little green swan’ trade\n",
      "When aliens call, look to the ‘little green swan’ trade\n",
      "Trump says Fed chair’s ‘termination cannot come fast enough’\n",
      "Trump says Fed chair’s ‘termination cannot come fast enough’\n",
      "Astronomers claim strongest evidence yet of extraterrestrial life\n",
      "Astronomers claim strongest evidence yet of extraterrestrial life\n"
     ]
    }
   ],
   "source": [
    "import feedparser\n",
    "import random\n",
    "\n",
    "rss_url = \"https://www.ft.com/rss/home\"\n",
    "feed = feedparser.parse(rss_url)\n",
    "\n",
    "print(feed)\n",
    "i = 3\n",
    "chosen = []\n",
    "while(i>0):\n",
    "    c = random.choice(feed[\"entries\"])\n",
    "    if c in chosen:\n",
    "        continue\n",
    "    print(c[\"title\"])\n",
    "    print(generate_question(c[\"title\"]))\n",
    "    i-=1\n"
   ]
  },
  {
   "cell_type": "code",
   "execution_count": null,
   "id": "82070160",
   "metadata": {},
   "outputs": [],
   "source": []
  }
 ],
 "metadata": {
  "kernelspec": {
   "display_name": "Python 3",
   "language": "python",
   "name": "python3"
  },
  "language_info": {
   "codemirror_mode": {
    "name": "ipython",
    "version": 3
   },
   "file_extension": ".py",
   "mimetype": "text/x-python",
   "name": "python",
   "nbconvert_exporter": "python",
   "pygments_lexer": "ipython3",
   "version": "3.9.6"
  }
 },
 "nbformat": 4,
 "nbformat_minor": 5
}
